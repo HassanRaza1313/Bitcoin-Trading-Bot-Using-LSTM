{
 "cells": [
  {
   "cell_type": "code",
   "execution_count": 4,
   "metadata": {},
   "outputs": [],
   "source": [
    "import numpy as np\n",
    "import matplotlib.pyplot as plt\n",
    "import seaborn as sns\n",
    "import pandas as pd\n",
    "import datetime\n",
    "from datetime import datetime\n",
    "from sklearn.metrics import mean_squared_error\n",
    "from sklearn.preprocessing import StandardScaler\n",
    "\n",
    "\n",
    "%matplotlib inline\n",
    "plt.style.use('fivethirtyeight')          #Used for replicating graph styles from fivethirtyeight.com\n",
    "\n",
    "from keras.models import load_model\n",
    "\n",
    "from binance.client import Client"
   ]
  },
  {
   "cell_type": "code",
   "execution_count": 5,
   "metadata": {},
   "outputs": [
    {
     "name": "stdout",
     "output_type": "stream",
     "text": [
      "Model: \"sequential\"\n",
      "_________________________________________________________________\n",
      "Layer (type)                 Output Shape              Param #   \n",
      "=================================================================\n",
      "lstm (LSTM)                  (None, 4, 20)             1760      \n",
      "_________________________________________________________________\n",
      "lstm_1 (LSTM)                (None, 40)                9760      \n",
      "_________________________________________________________________\n",
      "dense (Dense)                (None, 1)                 41        \n",
      "=================================================================\n",
      "Total params: 11,561\n",
      "Trainable params: 11,561\n",
      "Non-trainable params: 0\n",
      "_________________________________________________________________\n"
     ]
    }
   ],
   "source": [
    "#Loading the trained model\n",
    "model = load_model('Bitcoin_model.h5')\n",
    "\n",
    "#Summarize the model\n",
    "model.summary()"
   ]
  },
  {
   "cell_type": "code",
   "execution_count": 6,
   "metadata": {},
   "outputs": [
    {
     "data": {
      "text/plain": [
       "[1618090920000,\n",
       " '59063.95000000',\n",
       " '59073.20000000',\n",
       " '59063.94000000',\n",
       " '59071.11000000',\n",
       " '1.10544400',\n",
       " 1618090979999,\n",
       " '65297.87885649',\n",
       " 130,\n",
       " '0.63313200',\n",
       " '37398.13135273',\n",
       " '0']"
      ]
     },
     "execution_count": 6,
     "metadata": {},
     "output_type": "execute_result"
    }
   ],
   "source": [
    "#loading the data from Binance API\n",
    "api_key = \"\"\n",
    "secret_key = \"\"\n",
    "client = Client(aki_key,secret_key)\n",
    "check = client.get_klines(symbol='BTCUSDT',interval = Client.KLINE_INTERVAL_1MINUTE)\n",
    "\n",
    "check[499]"
   ]
  },
  {
   "cell_type": "code",
   "execution_count": 7,
   "metadata": {},
   "outputs": [],
   "source": [
    "price = np.array([float(check[i][4]) for i in range(500)])\n",
    "price = price.reshape(500,1)\n",
    "\n",
    "scaler = StandardScaler()\n",
    "scaler.fit(price[:374])\n",
    "\n",
    "price = scaler.transform(price)"
   ]
  },
  {
   "cell_type": "code",
   "execution_count": 8,
   "metadata": {},
   "outputs": [
    {
     "data": {
      "text/plain": [
       "59474.4"
      ]
     },
     "execution_count": 8,
     "metadata": {},
     "output_type": "execute_result"
    }
   ],
   "source": [
    "index = [496,497,498,499]\n",
    "\n",
    "candles = scaler.transform(np.array([float(check[i][4]) for i in index]).reshape(-1,1))\n",
    "\n",
    "model_feed = candles.reshape(1,4,1)\n",
    "\n",
    "scaler.inverse_transform(model.predict(model_feed)[0])[0]"
   ]
  },
  {
   "cell_type": "markdown",
   "metadata": {},
   "source": [
    "## Trading"
   ]
  },
  {
   "cell_type": "code",
   "execution_count": null,
   "metadata": {},
   "outputs": [
    {
     "name": "stdout",
     "output_type": "stream",
     "text": [
      "Buy @Market Price :  59049.85 Timestamp :  2021-04-11 02:42:59.909109\n",
      "Sell @Market Price :  59144.58 Timestamp :  2021-04-11 02:43:20.696173\n",
      "Buy @Market Price :  59129.54 Timestamp :  2021-04-11 02:43:22.634111\n",
      "Sell @Market Price :  59144.32 Timestamp :  2021-04-11 02:43:32.257294\n",
      "Buy @Market Price :  59143.61 Timestamp :  2021-04-11 02:43:34.212380\n"
     ]
    }
   ],
   "source": [
    "symbol = \"BTCUSDT\"   #Code of cryptocurrency\n",
    "quantity = '0.05'    #quantity to trade\n",
    "\n",
    "order = False\n",
    "index = [496,497,498,499]\n",
    "\n",
    "while True:\n",
    "    price = client.get_recent_trades(symbol=symbol)\n",
    "    candle = client.get_klines(symbol=symbol,interval=Client.KLINE_INTERVAL_1MINUTE)\n",
    "    candles = scaler.transform(np.array([float(candle[i][4]) for i in index]).reshape(-1,1))\n",
    "    model_feed = candles.reshape(1,4,1)\n",
    "    \n",
    "    \n",
    "    if order == False and float(price[len(price)-1]['price']) < float(scaler.inverse_transform(model.predict(model_feed)[0])[0]):\n",
    "        \n",
    "        #client.order_market_buy(symbol=symbol,quantity = quantity)\n",
    "        order = True\n",
    "        buy_price = client.get_order_book(symbol=symbol)['asks'][0][0]\n",
    "        print('Buy @Market Price : ',float(buy_price),'Timestamp : ',str(datetime.now()))\n",
    "        \n",
    "    elif order == True and float(price[len(price)-1]['price'])-float(buy_price) >=10:\n",
    "        \n",
    "        #client.order_market_sell(symbol=symbol, quantity=quantity)\n",
    "        order = False\n",
    "        sell_price = client.get_order_book(symbol=symbol)['bids'][0][0]\n",
    "        print('Sell @Market Price : ',float(sell_price),'Timestamp : ',str(datetime.now()))\n"
   ]
  },
  {
   "cell_type": "code",
   "execution_count": null,
   "metadata": {},
   "outputs": [],
   "source": []
  }
 ],
 "metadata": {
  "kernelspec": {
   "display_name": "Python 3",
   "language": "python",
   "name": "python3"
  },
  "language_info": {
   "codemirror_mode": {
    "name": "ipython",
    "version": 3
   },
   "file_extension": ".py",
   "mimetype": "text/x-python",
   "name": "python",
   "nbconvert_exporter": "python",
   "pygments_lexer": "ipython3",
   "version": "3.8.5"
  }
 },
 "nbformat": 4,
 "nbformat_minor": 4
}
