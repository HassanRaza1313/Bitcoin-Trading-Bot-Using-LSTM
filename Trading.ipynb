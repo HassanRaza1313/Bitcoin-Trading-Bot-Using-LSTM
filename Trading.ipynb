{
 "cells": [
  {
   "cell_type": "code",
   "execution_count": 8,
   "metadata": {},
   "outputs": [],
   "source": [
    "import numpy as np\n",
    "import matplotlib.pyplot as plt\n",
    "import seaborn as sns\n",
    "import pandas as pd\n",
    "import datetime\n",
    "from datetime import datetime\n",
    "from sklearn.metrics import mean_squared_error\n",
    "from sklearn.preprocessing import StandardScaler\n",
    "\n",
    "\n",
    "%matplotlib inline\n",
    "plt.style.use('fivethirtyeight')          #Used for replicating graph styles from fivethirtyeight.com\n",
    "\n",
    "from keras.models import load_model\n",
    "\n",
    "from binance.client import Client"
   ]
  },
  {
   "cell_type": "code",
   "execution_count": 9,
   "metadata": {},
   "outputs": [
    {
     "name": "stdout",
     "output_type": "stream",
     "text": [
      "Model: \"sequential_5\"\n",
      "_________________________________________________________________\n",
      "Layer (type)                 Output Shape              Param #   \n",
      "=================================================================\n",
      "lstm_10 (LSTM)               (None, 4, 20)             1760      \n",
      "_________________________________________________________________\n",
      "lstm_11 (LSTM)               (None, 40)                9760      \n",
      "_________________________________________________________________\n",
      "dense_5 (Dense)              (None, 1)                 41        \n",
      "=================================================================\n",
      "Total params: 11,561\n",
      "Trainable params: 11,561\n",
      "Non-trainable params: 0\n",
      "_________________________________________________________________\n"
     ]
    }
   ],
   "source": [
    "#Loading the trained model\n",
    "model = load_model('Bitcoin_model.h5')\n",
    "\n",
    "#Summarize the model\n",
    "model.summary()"
   ]
  },
  {
   "cell_type": "code",
   "execution_count": 10,
   "metadata": {},
   "outputs": [
    {
     "data": {
      "text/plain": [
       "[1617757800000,\n",
       " '57596.20000000',\n",
       " '57613.82000000',\n",
       " '57588.44000000',\n",
       " '57590.82000000',\n",
       " '28.91924800',\n",
       " 1617757859999,\n",
       " '1665845.72440510',\n",
       " 839,\n",
       " '12.94733000',\n",
       " '745793.53723415',\n",
       " '0']"
      ]
     },
     "execution_count": 10,
     "metadata": {},
     "output_type": "execute_result"
    }
   ],
   "source": [
    "#loading the data from Binance API\n",
    "client = Client(\"3NMyXJiv5LqOR9zDrmuCyOnEEVBuV0XX7CDpOwzcZHrgocW0VoR2GJKxU8nRcJPO\",\"tWqMqmODIu6hKqLavQErL177IlVRRNIwy3X43n7L33vlqLjcuWVWHw4FV4M5hatK\")\n",
    "check = client.get_klines(symbol='BTCUSDT',interval = Client.KLINE_INTERVAL_1MINUTE)\n",
    "\n",
    "check[499]"
   ]
  },
  {
   "cell_type": "code",
   "execution_count": 11,
   "metadata": {},
   "outputs": [],
   "source": [
    "price = np.array([float(check[i][4]) for i in range(500)])\n",
    "price = price.reshape(500,1)\n",
    "\n",
    "scaler = StandardScaler()\n",
    "scaler.fit(price[:374])\n",
    "\n",
    "price = scaler.transform(price)"
   ]
  },
  {
   "cell_type": "code",
   "execution_count": 12,
   "metadata": {},
   "outputs": [
    {
     "data": {
      "text/plain": [
       "57663.992"
      ]
     },
     "execution_count": 12,
     "metadata": {},
     "output_type": "execute_result"
    }
   ],
   "source": [
    "index = [496,497,498,499]\n",
    "\n",
    "candles = scaler.transform(np.array([float(check[i][4]) for i in index]).reshape(-1,1))\n",
    "\n",
    "model_feed = candles.reshape(1,4,1)\n",
    "\n",
    "scaler.inverse_transform(model.predict(model_feed)[0])[0]"
   ]
  },
  {
   "cell_type": "markdown",
   "metadata": {},
   "source": [
    "## Trading"
   ]
  },
  {
   "cell_type": "code",
   "execution_count": null,
   "metadata": {},
   "outputs": [
    {
     "name": "stdout",
     "output_type": "stream",
     "text": [
      "Buy @Market Price :  57314.25 Timestamp :  2021-04-07 06:28:02.430658\n",
      "Sell @Market Price :  57346.3 Timestamp :  2021-04-07 06:28:07.303302\n",
      "Buy @Market Price :  57362.0 Timestamp :  2021-04-07 06:28:11.832747\n",
      "Sell @Market Price :  57384.91 Timestamp :  2021-04-07 06:28:21.501294\n",
      "Buy @Market Price :  57398.49 Timestamp :  2021-04-07 06:28:26.192400\n"
     ]
    }
   ],
   "source": [
    "symbol = \"BTCUSDT\"   #Code of cryptocurrency\n",
    "quantity = '0.05'    #quantity to trade\n",
    "\n",
    "order = False\n",
    "index = [496,497,498,499]\n",
    "\n",
    "while True:\n",
    "    price = client.get_recent_trades(symbol=symbol)\n",
    "    candle = client.get_klines(symbol=symbol,interval=Client.KLINE_INTERVAL_1MINUTE)\n",
    "    candles = scaler.transform(np.array([float(candle[i][4]) for i in index]).reshape(-1,1))\n",
    "    model_feed = candles.reshape(1,4,1)\n",
    "    \n",
    "    \n",
    "    if order == False and float(price[len(price)-1]['price']) < float(scaler.inverse_transform(model.predict(model_feed)[0])[0]):\n",
    "        \n",
    "        #client.order_market_buy(symbol=symbol,quantity = quantity)\n",
    "        order = True\n",
    "        buy_price = client.get_order_book(symbol=symbol)['asks'][0][0]\n",
    "        print('Buy @Market Price : ',float(buy_price),'Timestamp : ',str(datetime.now()))\n",
    "        \n",
    "    elif order == True and float(price[len(price)-1]['price'])-float(buy_price) >=10:\n",
    "        \n",
    "        #client.order_market_sell(symbol=symbol, quantity=quantity)\n",
    "        order = False\n",
    "        sell_price = client.get_order_book(symbol=symbol)['bids'][0][0]\n",
    "        print('Sell @Market Price : ',float(sell_price),'Timestamp : ',str(datetime.now()))\n"
   ]
  },
  {
   "cell_type": "code",
   "execution_count": null,
   "metadata": {},
   "outputs": [],
   "source": []
  }
 ],
 "metadata": {
  "kernelspec": {
   "display_name": "Python 3",
   "language": "python",
   "name": "python3"
  },
  "language_info": {
   "codemirror_mode": {
    "name": "ipython",
    "version": 3
   },
   "file_extension": ".py",
   "mimetype": "text/x-python",
   "name": "python",
   "nbconvert_exporter": "python",
   "pygments_lexer": "ipython3",
   "version": "3.8.5"
  }
 },
 "nbformat": 4,
 "nbformat_minor": 4
}
